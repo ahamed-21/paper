{
 "cells": [
  {
   "cell_type": "code",
   "execution_count": 1,
   "metadata": {},
   "outputs": [
    {
     "name": "stdout",
     "output_type": "stream",
     "text": [
      "tensor([[ 1.1362],\n",
      "        [-0.3378],\n",
      "        [ 0.9022],\n",
      "        [-0.1977],\n",
      "        [-0.3172]])\n",
      "tensor([[3.5604e+00],\n",
      "        [8.6214e-03],\n",
      "        [1.2604e+00],\n",
      "        [1.2249e-03],\n",
      "        [6.9154e-03]])\n",
      "torch.Size([5, 1])\n",
      "torch.Size([5, 1])\n"
     ]
    },
    {
     "ename": "",
     "evalue": "",
     "output_type": "error",
     "traceback": [
      "\u001b[1;31mCanceled future for execute_request message before replies were done"
     ]
    },
    {
     "ename": "",
     "evalue": "",
     "output_type": "error",
     "traceback": [
      "\u001b[1;31mThe Kernel crashed while executing code in the the current cell or a previous cell. Please review the code in the cell(s) to identify a possible cause of the failure. Click <a href='https://aka.ms/vscodeJupyterKernelCrash'>here</a> for more info. View Jupyter <a href='command:jupyter.viewOutput'>log</a> for further details."
     ]
    }
   ],
   "source": [
    "import torch  \n",
    "import torch.nn as nn  \n",
    "import matplotlib.pyplot as plt  \n",
    "import numpy as np  \n",
    "#x=torch.tensor([1,2,3,4,5]) \n",
    "#y=x.pow(4)+x.pow(5)  \n",
    "n_input, n_hidden, n_out, batch_size, learning_rate = 1, 300, 1, 5, 0.1\n",
    "x = torch.randn(batch_size, n_input)\n",
    "y = x.pow(4)+x.pow(5)\n",
    "print(x)\n",
    "print(y)\n",
    "print(x.size())\n",
    "print(y.size())\n",
    "class Equ(nn.Module):\n",
    "    def __init__(self):\n",
    "        super(Equ, self).__init__()\n",
    "        self.first_layer = nn.Linear(n_input, n_hidden)\n",
    "        self.second_layer = nn.Linear(n_hidden, 450)\n",
    "        self.third_layer = nn.Linear(450, 1)\n",
    "        self.final_layer = nn.Linear(1,n_out)\n",
    "        self.relu = nn.ReLU()\n",
    "    def forward(self, X_batch):\n",
    "        layer_out = self.relu(self.final_layer(X_batch))\n",
    "        return self.final_layer(layer_out)\n",
    "model= Equ()\n",
    "def loss_function(y,y_pred):\n",
    "        return ((y_pred-y)**2).mean()\n",
    "optimizer = torch.optim.SGD(model.parameters(), lr=learning_rate)\n",
    "losses = []\n",
    "for epoch in range(5000):\n",
    "    pred_y = model(x)\n",
    "    loss = loss_function(pred_y, y)\n",
    "    losses.append(loss.item())\n",
    "\n",
    "    model.zero_grad()\n",
    "\n",
    "    optimizer.step()\n",
    "import matplotlib.pyplot as plt\n",
    "plt.plot(losses)\n",
    "plt.ylabel('loss')\n",
    "plt.xlabel('epoch')\n",
    "plt.title(\"Learning rate %f\"%(learning_rate))\n",
    "plt.show()"
   ]
  }
 ],
 "metadata": {
  "kernelspec": {
   "display_name": "base",
   "language": "python",
   "name": "python3"
  },
  "language_info": {
   "codemirror_mode": {
    "name": "ipython",
    "version": 3
   },
   "file_extension": ".py",
   "mimetype": "text/x-python",
   "name": "python",
   "nbconvert_exporter": "python",
   "pygments_lexer": "ipython3",
   "version": "3.9.7"
  },
  "orig_nbformat": 4,
  "vscode": {
   "interpreter": {
    "hash": "6970bc899ac28071c9dcbeda9d86cc41d0e455da8c9bbdd05d50310c74a0e27a"
   }
  }
 },
 "nbformat": 4,
 "nbformat_minor": 2
}
