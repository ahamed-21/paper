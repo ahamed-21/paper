{
 "cells": [
  {
   "cell_type": "code",
   "execution_count": 3,
   "metadata": {},
   "outputs": [
    {
     "name": "stdout",
     "output_type": "stream",
     "text": [
      "tensor(-162.)\n",
      "tensor(-81.)\n",
      "tensor(-81.)\n",
      "tensor(-162.)\n"
     ]
    }
   ],
   "source": [
    "import torch\n",
    "torch.device('cpu')\n",
    "a=torch.tensor([[6,12,3],[5,13,9],[17,16,9]],dtype=torch.float32)\n",
    "c=torch.zeros((3,3),dtype=torch.float32)\n",
    "d=0\n",
    "e=0\n",
    "f=0\n",
    "for i in range(0,3):\n",
    "    for j in range(0,3):\n",
    "        if(i==0 and j==0):\n",
    "            d=a[i][j]*(((a[i+1][j+1])*(a[i+2][j+2]))-((a[i+1][j+2])*(a[i+2][j+1])))\n",
    "            print(d)\n",
    "        if(i==0 and j==1):\n",
    "            e=a[i][j+1]*(((a[i+1][j])*(a[i+2][j+1]))-((a[i+1][j+1])*(a[i+2][j])))\n",
    "            print(e)\n",
    "        if(i==0 and j==2):\n",
    "            f=a[i][j]*(((a[i+1][j-1])*(a[i+2][j]))-((a[i+1][j])*(a[i+2][j-1])))\n",
    "            print(f)\n",
    "det=0\n",
    "det=(d-e+f)\n",
    "print(det)"
   ]
  }
 ],
 "metadata": {
  "kernelspec": {
   "display_name": "base",
   "language": "python",
   "name": "python3"
  },
  "language_info": {
   "codemirror_mode": {
    "name": "ipython",
    "version": 3
   },
   "file_extension": ".py",
   "mimetype": "text/x-python",
   "name": "python",
   "nbconvert_exporter": "python",
   "pygments_lexer": "ipython3",
   "version": "3.9.7"
  },
  "orig_nbformat": 4,
  "vscode": {
   "interpreter": {
    "hash": "6970bc899ac28071c9dcbeda9d86cc41d0e455da8c9bbdd05d50310c74a0e27a"
   }
  }
 },
 "nbformat": 4,
 "nbformat_minor": 2
}
