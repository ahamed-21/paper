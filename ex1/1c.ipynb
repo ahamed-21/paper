{
 "cells": [
  {
   "cell_type": "code",
   "execution_count": 1,
   "metadata": {},
   "outputs": [
    {
     "name": "stdout",
     "output_type": "stream",
     "text": [
      "torch.Size([17442, 6]) torch.Size([17442])\n",
      "tensor([[ 0.0051],\n",
      "        [-0.0142],\n",
      "        [-0.0413],\n",
      "        [-0.0156],\n",
      "        [-0.0027]], grad_fn=<AddmmBackward0>)\n"
     ]
    },
    {
     "name": "stderr",
     "output_type": "stream",
     "text": [
      "C:\\Users\\javid\\AppData\\Local\\Temp/ipykernel_28024/3288765578.py:16: UserWarning: To copy construct from a tensor, it is recommended to use sourceTensor.clone().detach() or sourceTensor.clone().detach().requires_grad_(True), rather than torch.tensor(sourceTensor).\n",
      "  X_train, X_test, Y_train, Y_test = torch.tensor(X_train, dtype=torch.float32),torch.tensor(X_test, dtype=torch.float32),torch.tensor(Y_train, dtype=torch.float32),torch.tensor(Y_test, dtype=torch.float32)\n"
     ]
    },
    {
     "name": "stdout",
     "output_type": "stream",
     "text": [
      "MSE : 0.38\n",
      "MSE : 0.25\n",
      "MSE : 0.18\n",
      "MSE : 0.14\n",
      "MSE : 0.13\n",
      "Train R^2 Score : -0.06\n",
      "Test  R^2 Score : -0.04\n"
     ]
    }
   ],
   "source": [
    "\n",
    "import torch\n",
    "import pandas as pd\n",
    "import matplotlib.pyplot as plt\n",
    "ae= pd.read_excel(\"F:\\sem6\\Dl lab\\Acoustic_Extinguisher_Fire_Dataset.xlsx\")\n",
    "from sklearn import preprocessing\n",
    "label_encoder = preprocessing.LabelEncoder()\n",
    "ae['FUEL']= label_encoder.fit_transform(ae['FUEL'])\n",
    "X =torch.tensor(ae.drop(\"STATUS\", axis=1).values, dtype=torch.float)\n",
    "y = torch.tensor(\n",
    "    [0 if st == 0 else 1 if st ==1 else 2 for st in ae[\"STATUS\"]], \n",
    "    dtype=torch.long\n",
    ")\n",
    "print(X.shape, y.shape)\n",
    "from sklearn.model_selection import train_test_split\n",
    "X_train, X_test, Y_train, Y_test = train_test_split(X, y, train_size=0.8, random_state=42)\n",
    "X_train, X_test, Y_train, Y_test = torch.tensor(X_train, dtype=torch.float32),torch.tensor(X_test, dtype=torch.float32),torch.tensor(Y_train, dtype=torch.float32),torch.tensor(Y_test, dtype=torch.float32)\n",
    "samples, features = X_train.shape\n",
    "from torch import nn\n",
    "class Regressor(nn.Module):\n",
    "    def __init__(self):\n",
    "        super(Regressor, self).__init__()\n",
    "        self.first_layer = nn.Linear(features, 30)\n",
    "        self.second_layer = nn.Linear(30, 60,bias=True)\n",
    "        self.third_layer = nn.Linear(60, 90)\n",
    "        self.fourth_layer = nn.Linear(90, 120)\n",
    "        self.fifth_layer = nn.Linear(120, 150)\n",
    "        self.sixth_layer = nn.Linear(150, 180)\n",
    "        self.final_layer = nn.Linear(180,1)\n",
    "        self.relu = nn.ReLU()\n",
    "    def forward(self, X_batch):\n",
    "        layer_out = self.relu(self.first_layer(X_batch))\n",
    "        layer_out = self.relu(self.second_layer(layer_out))\n",
    "        layer_out = self.relu(self.third_layer(layer_out))\n",
    "        layer_out = self.relu(self.fourth_layer(layer_out))\n",
    "        layer_out = self.relu(self.fifth_layer(layer_out))\n",
    "        layer_out = self.relu(self.sixth_layer(layer_out))\n",
    "        return self.final_layer(layer_out)\n",
    "regressor = Regressor()\n",
    "preds = regressor(X_train[:5])\n",
    "print(preds)\n",
    "def TrainModel(model, loss_func, optimizer, X, Y, epochs=500):\n",
    "    for i in range(epochs):\n",
    "        preds = model(X) ## Make Predictions by forward pass through network\n",
    "\n",
    "        loss = loss_func(preds.ravel(), Y) ## Calculate Loss\n",
    "\n",
    "        optimizer.zero_grad() ## Zero weights before calculating gradients\n",
    "        loss.backward() ## Calculate Gradients\n",
    "        optimizer.step() ## Update Weights\n",
    "\n",
    "        if i % 100 == 0: ## Print MSE every 100 epochs\n",
    "            print(\"MSE : {:.2f}\".format(loss))\n",
    "from torch.optim import SGD, RMSprop, Adam\n",
    "\n",
    "torch.manual_seed(42) \n",
    "\n",
    "epochs = 500\n",
    "learning_rate = torch.tensor(1/1e3) # 0.001\n",
    "\n",
    "regressor = Regressor()\n",
    "mse_loss = nn.MSELoss()\n",
    "optimizer = SGD(params=regressor.parameters(), lr=learning_rate)\n",
    "\n",
    "TrainModel(regressor, mse_loss, optimizer, X_train, Y_train, epochs=epochs)\n",
    "test_preds = regressor(X_test) ## Make Predictions on test dataset\n",
    "\n",
    "train_preds = regressor(X_train) ## Make Predictions on train dataset\n",
    "\n",
    "from sklearn.metrics import r2_score\n",
    "\n",
    "print(\"Train R^2 Score : {:.2f}\".format(r2_score(train_preds.detach().numpy().squeeze(), Y_train.detach().numpy())))\n",
    "print(\"Test  R^2 Score : {:.2f}\".format(r2_score(test_preds.detach().numpy().squeeze(), Y_test.detach().numpy())))"
   ]
  }
 ],
 "metadata": {
  "kernelspec": {
   "display_name": "base",
   "language": "python",
   "name": "python3"
  },
  "language_info": {
   "codemirror_mode": {
    "name": "ipython",
    "version": 3
   },
   "file_extension": ".py",
   "mimetype": "text/x-python",
   "name": "python",
   "nbconvert_exporter": "python",
   "pygments_lexer": "ipython3",
   "version": "3.9.7"
  },
  "orig_nbformat": 4,
  "vscode": {
   "interpreter": {
    "hash": "6970bc899ac28071c9dcbeda9d86cc41d0e455da8c9bbdd05d50310c74a0e27a"
   }
  }
 },
 "nbformat": 4,
 "nbformat_minor": 2
}
